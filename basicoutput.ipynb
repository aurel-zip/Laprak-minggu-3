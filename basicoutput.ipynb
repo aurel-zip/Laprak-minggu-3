{
  "nbformat": 4,
  "nbformat_minor": 0,
  "metadata": {
    "colab": {
      "provenance": []
    },
    "kernelspec": {
      "name": "python3",
      "display_name": "Python 3"
    },
    "language_info": {
      "name": "python"
    }
  },
  "cells": [
    {
      "cell_type": "markdown",
      "source": [
        "# **Weekly Exercise 1**"
      ],
      "metadata": {
        "id": "NZsPs65kvLDm"
      }
    },
    {
      "cell_type": "markdown",
      "source": [
        "1. Biodata yang meliputi : nama, program studi, NPM, alamat, hobi, dan email."
      ],
      "metadata": {
        "id": "HQBX82ShkwwR"
      }
    },
    {
      "cell_type": "code",
      "execution_count": null,
      "metadata": {
        "id": "K4SXhKlju6r3",
        "colab": {
          "base_uri": "https://localhost:8080/"
        },
        "outputId": "6004ed6d-e577-4ec3-83e3-3b1f472be622"
      },
      "outputs": [
        {
          "output_type": "stream",
          "name": "stdout",
          "text": [
            "Nama : Salwa Aurelia\n",
            "Program studi : Teknologi Informasi\n",
            "NPM : 2420506045\n",
            "Alamat : Jl. Flores, Wates, Magelang\n",
            "Hobi : Menggambar dan Melukis\n",
            "Email : salwaau08@gmail.com\n"
          ]
        }
      ],
      "source": [
        "with open('sample_data/AurelBiodata.txt', \"r\") as file1 :\n",
        "  print(file1.read())"
      ]
    },
    {
      "cell_type": "markdown",
      "source": [
        "2. Script yang menampilkan nama, program studi, dan email."
      ],
      "metadata": {
        "id": "CVtMdDr9lQUN"
      }
    },
    {
      "cell_type": "code",
      "source": [
        "with open('sample_data/AurelBiodata.txt', \"r\") as testwritefile :\n",
        "    for line in testwritefile:\n",
        "        if \"Nama\" in line or \"Program studi\" in line or \"Email\" in line:\n",
        "            print(line.strip())"
      ],
      "metadata": {
        "id": "LU-jhSiyVrIo",
        "colab": {
          "base_uri": "https://localhost:8080/"
        },
        "outputId": "0e37dbd6-4592-4133-b224-0e7f3bf945a3"
      },
      "execution_count": 2,
      "outputs": [
        {
          "output_type": "stream",
          "name": "stdout",
          "text": [
            "Nama : Salwa Aurelia\n",
            "Program studi : Teknologi Informasi\n",
            "Email : salwaau08@gmail.com\n"
          ]
        }
      ]
    },
    {
      "cell_type": "markdown",
      "source": [
        "3. Script untuk mengambil data nama, NPM, program studi dan alamat kemudian menyimpan dalam bentuk file txt yang baru."
      ],
      "metadata": {
        "id": "2qurb9-_lYs3"
      }
    },
    {
      "cell_type": "code",
      "source": [
        "with open('sample_data/AurelBiodata.txt', 'r') as readfile:\n",
        "    with open('sample_data/AurelBiodata2.txt', 'w') as writefile:\n",
        "          for line in readfile:\n",
        "                writefile.write(line)"
      ],
      "metadata": {
        "id": "z6nBaRUPlfRN"
      },
      "execution_count": null,
      "outputs": []
    },
    {
      "cell_type": "code",
      "source": [
        "with open('sample_data/BiodataDuplikat.txt', 'r') as testwritefile:\n",
        "    for line in testwritefile:\n",
        "        if \"Nama\" in line or \"NPM\" in line or \"Program studi\" in line or \"Alamat\" in line:\n",
        "            print(line.strip())"
      ],
      "metadata": {
        "colab": {
          "base_uri": "https://localhost:8080/"
        },
        "id": "feFAtWmMsmQt",
        "outputId": "4ca4e003-30c1-4f6d-a814-2b4c52b693d9"
      },
      "execution_count": null,
      "outputs": [
        {
          "output_type": "stream",
          "name": "stdout",
          "text": [
            "Nama : Salwa Aurelia\n",
            "Program studi : Teknologi Informasi\n",
            "NPM : 2420506045\n",
            "Alamat : Jl. Flores, Wates, Magelang\n"
          ]
        }
      ]
    },
    {
      "cell_type": "markdown",
      "source": [
        "# **Weekly exercise 2**"
      ],
      "metadata": {
        "id": "f0Op6x92wpMO"
      }
    },
    {
      "cell_type": "code",
      "source": [
        "print(\"Selamat datang di toko Maju Jaya\")\n",
        "print(\"Senin, 4 September 2023     13.05\")\n",
        "print(\" \")\n",
        "\n",
        "print(\"DAFTAR BELANJA:\")\n",
        "item1 = 'sabun'\n",
        "item2 = 'shampo'\n",
        "item3 = 'mie instant'\n",
        "item4 = 'detergen'\n",
        "harga1 = 10000\n",
        "harga2 = 15000\n",
        "harga3 = 5000\n",
        "harga4 = 17500\n",
        "\n",
        "total = harga1 + harga2 + harga3 + harga4\n",
        "\n",
        "print(item1, '= Rp', + harga1)\n",
        "print(item2, '= Rp', + harga2)\n",
        "print(item3, '= Rp', + harga3)\n",
        "print(item4, '= Rp', + harga4)\n",
        "\n",
        "print(\" \")\n",
        "print(\"Total =\", 'Rp', + total)\n",
        "\n",
        "with open('Kuitansi.txt', 'w') as writefile:\n",
        "        writefile.write(\"Selamat datang di Toko Maju Jaya\")\n",
        "        writefile.write(\"\\n\")\n",
        "        writefile.write(\"Kuitansi - 4 September 2023\")\n",
        "        writefile.write(\"\\n\")\n",
        "        writefile.write(item1+\" = Rp\"+str(harga1)+\"\\n\")\n",
        "        writefile.write(item2+\" = Rp\"+str(harga2)+\"\\n\")\n",
        "        writefile.write(item3+\" = Rp\"+str(harga3)+\"\\n\")\n",
        "        writefile.write(item4+\" = Rp\"+str(harga4)+\"\\n\")\n",
        "        writefile.write(\"Total = Rp\"+str(total))"
      ],
      "metadata": {
        "colab": {
          "base_uri": "https://localhost:8080/"
        },
        "id": "QGtYEys15ISp",
        "outputId": "39971a4d-0553-4250-830d-0195e3c866f5"
      },
      "execution_count": null,
      "outputs": [
        {
          "output_type": "stream",
          "name": "stdout",
          "text": [
            "Selamat datang di toko Maju Jaya\n",
            "Senin, 4 September 2023     13.05\n",
            " \n",
            "DAFTAR BELANJA:\n",
            "sabun = Rp 10000\n",
            "shampo = Rp 15000\n",
            "mie instant = Rp 5000\n",
            "detergen = Rp 17500\n",
            " \n",
            "Total = Rp 47500\n"
          ]
        }
      ]
    }
  ]
}